{
 "cells": [
  {
   "cell_type": "code",
   "execution_count": 1,
   "metadata": {},
   "outputs": [],
   "source": [
    "import tensorflow as tf\n",
    "from keras.datasets import imdb\n",
    "from keras.preprocessing.sequence import pad_sequences\n",
    "from keras.models import Sequential\n",
    "from keras.layers import Embedding, LSTM, Dense, Dropout\n",
    "import numpy as np\n",
    "import matplotlib.pyplot as plt"
   ]
  },
  {
   "cell_type": "markdown",
   "metadata": {},
   "source": [
    "## Preprocessing"
   ]
  },
  {
   "cell_type": "code",
   "execution_count": 2,
   "metadata": {},
   "outputs": [],
   "source": [
    "\n",
    "# Load the IMDb dataset\n",
    "vocab_size = 100000  # Number of words to consider as features\n",
    "maxlen = 500  # Cut reviews after 500 words\n",
    "\n",
    "(x_train, y_train), (x_test, y_test) = imdb.load_data(num_words=vocab_size)\n",
    "\n",
    "# Pad sequences to ensure uniform input size\n",
    "x_train = pad_sequences(x_train, maxlen=maxlen)\n",
    "x_test = pad_sequences(x_test, maxlen=maxlen)"
   ]
  },
  {
   "cell_type": "code",
   "execution_count": 10,
   "metadata": {},
   "outputs": [
    {
     "name": "stdout",
     "output_type": "stream",
     "text": [
      "? ? ? ? ? ? ? ? ? ? ? ? ? ? ? ? ? ? ? ? ? ? ? ? ? ? ? ? ? ? ? ? ? ? ? ? ? ? ? ? ? ? ? ? ? ? ? ? ? ? ? ? ? ? ? ? ? ? ? ? ? ? ? ? ? ? ? ? ? ? ? ? ? ? ? ? ? ? ? ? ? ? ? ? ? ? ? ? ? ? ? ? ? ? ? ? ? ? ? ? ? ? ? ? ? ? ? ? ? ? ? ? ? ? ? ? ? ? ? ? ? ? ? ? ? ? ? ? ? ? ? ? ? ? ? ? ? ? ? ? ? ? ? ? ? ? ? ? ? ? ? ? ? ? ? ? ? ? ? ? ? ? ? ? ? ? ? ? ? ? ? ? ? ? ? ? ? ? ? ? ? ? ? ? ? ? ? ? ? ? ? ? ? ? ? ? ? ? ? ? ? ? ? ? ? ? ? ? ? ? ? ? ? ? ? ? ? ? ? ? ? ? ? ? ? ? ? ? ? ? ? ? ? ? ? ? ? ? ? ? ? ? ? ? ? ? ? ? ? ? ? ? ? ? ? ? ? ? ? ? ? ? ? ? ? ? ? ? ? ? ? ? ? ? ? ? ? ? ? ? ? ? ? this film was just brilliant casting location scenery story direction everyone's really suited the part they played and you could just imagine being there robert redford's is an amazing actor and now the same being director norman's father came from the same scottish island as myself so i loved the fact there was a real connection with this film the witty remarks throughout the film were great it was just brilliant so much that i bought the film as soon as it was released for retail and would recommend it to everyone to watch and the fly fishing was amazing really cried at the end it was so sad and you know what they say if you cry at a film it must have been good and this definitely was also congratulations to the two little boy's that played the part's of norman and paul they were just brilliant children are often left out of the praising list i think because the stars that play them all grown up are such a big profile for the whole film but these children are amazing and should be praised for what they have done don't you think the whole story was so lovely because it was true and was someone's life after all that was shared with us all\n",
      "Sentiment: Positive\n"
     ]
    }
   ],
   "source": [
    "# Load the word index from the IMDb dataset\n",
    "word_index = imdb.get_word_index()\n",
    "\n",
    "# Reverse the word index to map integers back to words\n",
    "reverse_word_index = {value: key for (key, value) in word_index.items()}\n",
    "\n",
    "# Function to decode a review\n",
    "def decode_review(sequence):\n",
    "    return ' '.join([reverse_word_index.get(i - 3, '?') for i in sequence])  # Offset by 3\n",
    "\n",
    "# Decode the first review\n",
    "decoded_review = decode_review(x_train[0])\n",
    "print(decoded_review)\n",
    "print(f\"Sentiment: {'Positive' if y_train[0] else 'Negative'}\")"
   ]
  },
  {
   "cell_type": "markdown",
   "metadata": {},
   "source": [
    "## Build the model"
   ]
  },
  {
   "cell_type": "code",
   "execution_count": 5,
   "metadata": {},
   "outputs": [
    {
     "name": "stderr",
     "output_type": "stream",
     "text": [
      "/Users/robbieardison/anaconda3/envs/tf-pro/lib/python3.11/site-packages/keras/src/layers/core/embedding.py:90: UserWarning: Argument `input_length` is deprecated. Just remove it.\n",
      "  warnings.warn(\n"
     ]
    },
    {
     "data": {
      "text/html": [
       "<pre style=\"white-space:pre;overflow-x:auto;line-height:normal;font-family:Menlo,'DejaVu Sans Mono',consolas,'Courier New',monospace\"><span style=\"font-weight: bold\">Model: \"sequential\"</span>\n",
       "</pre>\n"
      ],
      "text/plain": [
       "\u001b[1mModel: \"sequential\"\u001b[0m\n"
      ]
     },
     "metadata": {},
     "output_type": "display_data"
    },
    {
     "data": {
      "text/html": [
       "<pre style=\"white-space:pre;overflow-x:auto;line-height:normal;font-family:Menlo,'DejaVu Sans Mono',consolas,'Courier New',monospace\">┏━━━━━━━━━━━━━━━━━━━━━━━━━━━━━━━━━┳━━━━━━━━━━━━━━━━━━━━━━━━┳━━━━━━━━━━━━━━━┓\n",
       "┃<span style=\"font-weight: bold\"> Layer (type)                    </span>┃<span style=\"font-weight: bold\"> Output Shape           </span>┃<span style=\"font-weight: bold\">       Param # </span>┃\n",
       "┡━━━━━━━━━━━━━━━━━━━━━━━━━━━━━━━━━╇━━━━━━━━━━━━━━━━━━━━━━━━╇━━━━━━━━━━━━━━━┩\n",
       "│ embedding (<span style=\"color: #0087ff; text-decoration-color: #0087ff\">Embedding</span>)           │ ?                      │   <span style=\"color: #00af00; text-decoration-color: #00af00\">0</span> (unbuilt) │\n",
       "├─────────────────────────────────┼────────────────────────┼───────────────┤\n",
       "│ lstm (<span style=\"color: #0087ff; text-decoration-color: #0087ff\">LSTM</span>)                     │ ?                      │   <span style=\"color: #00af00; text-decoration-color: #00af00\">0</span> (unbuilt) │\n",
       "├─────────────────────────────────┼────────────────────────┼───────────────┤\n",
       "│ dropout (<span style=\"color: #0087ff; text-decoration-color: #0087ff\">Dropout</span>)               │ ?                      │   <span style=\"color: #00af00; text-decoration-color: #00af00\">0</span> (unbuilt) │\n",
       "├─────────────────────────────────┼────────────────────────┼───────────────┤\n",
       "│ dense (<span style=\"color: #0087ff; text-decoration-color: #0087ff\">Dense</span>)                   │ ?                      │   <span style=\"color: #00af00; text-decoration-color: #00af00\">0</span> (unbuilt) │\n",
       "└─────────────────────────────────┴────────────────────────┴───────────────┘\n",
       "</pre>\n"
      ],
      "text/plain": [
       "┏━━━━━━━━━━━━━━━━━━━━━━━━━━━━━━━━━┳━━━━━━━━━━━━━━━━━━━━━━━━┳━━━━━━━━━━━━━━━┓\n",
       "┃\u001b[1m \u001b[0m\u001b[1mLayer (type)                   \u001b[0m\u001b[1m \u001b[0m┃\u001b[1m \u001b[0m\u001b[1mOutput Shape          \u001b[0m\u001b[1m \u001b[0m┃\u001b[1m \u001b[0m\u001b[1m      Param #\u001b[0m\u001b[1m \u001b[0m┃\n",
       "┡━━━━━━━━━━━━━━━━━━━━━━━━━━━━━━━━━╇━━━━━━━━━━━━━━━━━━━━━━━━╇━━━━━━━━━━━━━━━┩\n",
       "│ embedding (\u001b[38;5;33mEmbedding\u001b[0m)           │ ?                      │   \u001b[38;5;34m0\u001b[0m (unbuilt) │\n",
       "├─────────────────────────────────┼────────────────────────┼───────────────┤\n",
       "│ lstm (\u001b[38;5;33mLSTM\u001b[0m)                     │ ?                      │   \u001b[38;5;34m0\u001b[0m (unbuilt) │\n",
       "├─────────────────────────────────┼────────────────────────┼───────────────┤\n",
       "│ dropout (\u001b[38;5;33mDropout\u001b[0m)               │ ?                      │   \u001b[38;5;34m0\u001b[0m (unbuilt) │\n",
       "├─────────────────────────────────┼────────────────────────┼───────────────┤\n",
       "│ dense (\u001b[38;5;33mDense\u001b[0m)                   │ ?                      │   \u001b[38;5;34m0\u001b[0m (unbuilt) │\n",
       "└─────────────────────────────────┴────────────────────────┴───────────────┘\n"
      ]
     },
     "metadata": {},
     "output_type": "display_data"
    },
    {
     "data": {
      "text/html": [
       "<pre style=\"white-space:pre;overflow-x:auto;line-height:normal;font-family:Menlo,'DejaVu Sans Mono',consolas,'Courier New',monospace\"><span style=\"font-weight: bold\"> Total params: </span><span style=\"color: #00af00; text-decoration-color: #00af00\">0</span> (0.00 B)\n",
       "</pre>\n"
      ],
      "text/plain": [
       "\u001b[1m Total params: \u001b[0m\u001b[38;5;34m0\u001b[0m (0.00 B)\n"
      ]
     },
     "metadata": {},
     "output_type": "display_data"
    },
    {
     "data": {
      "text/html": [
       "<pre style=\"white-space:pre;overflow-x:auto;line-height:normal;font-family:Menlo,'DejaVu Sans Mono',consolas,'Courier New',monospace\"><span style=\"font-weight: bold\"> Trainable params: </span><span style=\"color: #00af00; text-decoration-color: #00af00\">0</span> (0.00 B)\n",
       "</pre>\n"
      ],
      "text/plain": [
       "\u001b[1m Trainable params: \u001b[0m\u001b[38;5;34m0\u001b[0m (0.00 B)\n"
      ]
     },
     "metadata": {},
     "output_type": "display_data"
    },
    {
     "data": {
      "text/html": [
       "<pre style=\"white-space:pre;overflow-x:auto;line-height:normal;font-family:Menlo,'DejaVu Sans Mono',consolas,'Courier New',monospace\"><span style=\"font-weight: bold\"> Non-trainable params: </span><span style=\"color: #00af00; text-decoration-color: #00af00\">0</span> (0.00 B)\n",
       "</pre>\n"
      ],
      "text/plain": [
       "\u001b[1m Non-trainable params: \u001b[0m\u001b[38;5;34m0\u001b[0m (0.00 B)\n"
      ]
     },
     "metadata": {},
     "output_type": "display_data"
    }
   ],
   "source": [
    "# Build the model\n",
    "model = Sequential()\n",
    "\n",
    "# Embedding layer to convert integer indices to dense vectors\n",
    "model.add(Embedding(input_dim=vocab_size, output_dim=128, input_length=maxlen))\n",
    "\n",
    "# LSTM layer with 128 units\n",
    "model.add(LSTM(128))\n",
    "\n",
    "# Dropout layer to prevent overfitting\n",
    "model.add(Dropout(0.5))\n",
    "\n",
    "# Dense output layer with sigmoid activation for binary classification\n",
    "model.add(Dense(1, activation='sigmoid'))\n",
    "\n",
    "# Compile the model\n",
    "model.compile(optimizer='adam', loss='binary_crossentropy', metrics=['accuracy'])\n",
    "\n",
    "# Print the model summary\n",
    "model.summary()"
   ]
  },
  {
   "cell_type": "markdown",
   "metadata": {},
   "source": [
    "## Train the model"
   ]
  },
  {
   "cell_type": "code",
   "execution_count": 6,
   "metadata": {},
   "outputs": [
    {
     "name": "stdout",
     "output_type": "stream",
     "text": [
      "Epoch 1/5\n",
      "\u001b[1m313/313\u001b[0m \u001b[32m━━━━━━━━━━━━━━━━━━━━\u001b[0m\u001b[37m\u001b[0m \u001b[1m153s\u001b[0m 484ms/step - accuracy: 0.6697 - loss: 0.6175 - val_accuracy: 0.7066 - val_loss: 0.5544\n",
      "Epoch 2/5\n",
      "\u001b[1m313/313\u001b[0m \u001b[32m━━━━━━━━━━━━━━━━━━━━\u001b[0m\u001b[37m\u001b[0m \u001b[1m150s\u001b[0m 480ms/step - accuracy: 0.8362 - loss: 0.3839 - val_accuracy: 0.8588 - val_loss: 0.3427\n",
      "Epoch 3/5\n",
      "\u001b[1m313/313\u001b[0m \u001b[32m━━━━━━━━━━━━━━━━━━━━\u001b[0m\u001b[37m\u001b[0m \u001b[1m150s\u001b[0m 480ms/step - accuracy: 0.9382 - loss: 0.1772 - val_accuracy: 0.8672 - val_loss: 0.3352\n",
      "Epoch 4/5\n",
      "\u001b[1m313/313\u001b[0m \u001b[32m━━━━━━━━━━━━━━━━━━━━\u001b[0m\u001b[37m\u001b[0m \u001b[1m150s\u001b[0m 480ms/step - accuracy: 0.9741 - loss: 0.0867 - val_accuracy: 0.8548 - val_loss: 0.4026\n",
      "Epoch 5/5\n",
      "\u001b[1m313/313\u001b[0m \u001b[32m━━━━━━━━━━━━━━━━━━━━\u001b[0m\u001b[37m\u001b[0m \u001b[1m155s\u001b[0m 494ms/step - accuracy: 0.9885 - loss: 0.0411 - val_accuracy: 0.8586 - val_loss: 0.4549\n"
     ]
    }
   ],
   "source": [
    "\n",
    "# Train the model\n",
    "history = model.fit(x_train, y_train, epochs=5, batch_size=64, validation_split=0.2)"
   ]
  },
  {
   "cell_type": "markdown",
   "metadata": {},
   "source": [
    "## Evaluation"
   ]
  },
  {
   "cell_type": "code",
   "execution_count": 7,
   "metadata": {},
   "outputs": [
    {
     "name": "stdout",
     "output_type": "stream",
     "text": [
      "\u001b[1m782/782\u001b[0m \u001b[32m━━━━━━━━━━━━━━━━━━━━\u001b[0m\u001b[37m\u001b[0m \u001b[1m101s\u001b[0m 130ms/step - accuracy: 0.8506 - loss: 0.4884\n",
      "Test Accuracy: 0.8502\n"
     ]
    }
   ],
   "source": [
    "# Evaluate the model on the test data\n",
    "loss, accuracy = model.evaluate(x_test, y_test)\n",
    "print(f'Test Accuracy: {accuracy:.4f}')"
   ]
  },
  {
   "cell_type": "markdown",
   "metadata": {},
   "source": [
    "##  Plot training and validation accuracy"
   ]
  },
  {
   "cell_type": "code",
   "execution_count": 9,
   "metadata": {},
   "outputs": [
    {
     "data": {
      "image/png": "[encoded data removed]",
      "text/plain": [
       "<Figure size 640x480 with 1 Axes>"
      ]
     },
     "metadata": {},
     "output_type": "display_data"
    },
    {
     "data": {
      "image/png": "[encoded data removed]",
      "text/plain": [
       "<Figure size 640x480 with 1 Axes>"
      ]
     },
     "metadata": {},
     "output_type": "display_data"
    },
    {
     "name": "stdout",
     "output_type": "stream",
     "text": [
      "\u001b[1m4/4\u001b[0m \u001b[32m━━━━━━━━━━━━━━━━━━━━\u001b[0m\u001b[37m\u001b[0m \u001b[1m1s\u001b[0m 93ms/step \n",
      "Review 1 is Negative (Confidence: 0.0654)\n",
      "Review 2 is Positive (Confidence: 0.9993)\n",
      "Review 3 is Positive (Confidence: 0.9484)\n",
      "Review 4 is Positive (Confidence: 0.9264)\n",
      "Review 5 is Positive (Confidence: 0.9999)\n",
      "Review 6 is Positive (Confidence: 0.9874)\n",
      "Review 7 is Positive (Confidence: 0.9951)\n",
      "Review 8 is Negative (Confidence: 0.0027)\n",
      "Review 9 is Positive (Confidence: 0.9981)\n",
      "Review 10 is Positive (Confidence: 0.9982)\n",
      "Review 11 is Positive (Confidence: 0.9361)\n",
      "Review 12 is Negative (Confidence: 0.0018)\n",
      "Review 13 is Negative (Confidence: 0.0010)\n",
      "Review 14 is Negative (Confidence: 0.0042)\n",
      "Review 15 is Positive (Confidence: 0.9993)\n",
      "Review 16 is Negative (Confidence: 0.0013)\n",
      "Review 17 is Positive (Confidence: 0.9993)\n",
      "Review 18 is Positive (Confidence: 0.8160)\n",
      "Review 19 is Negative (Confidence: 0.0002)\n",
      "Review 20 is Negative (Confidence: 0.0014)\n",
      "Review 21 is Positive (Confidence: 0.9994)\n",
      "Review 22 is Positive (Confidence: 0.9940)\n",
      "Review 23 is Negative (Confidence: 0.0342)\n",
      "Review 24 is Positive (Confidence: 0.9983)\n",
      "Review 25 is Positive (Confidence: 0.9982)\n",
      "Review 26 is Positive (Confidence: 0.9999)\n",
      "Review 27 is Negative (Confidence: 0.0006)\n",
      "Review 28 is Positive (Confidence: 0.9969)\n",
      "Review 29 is Positive (Confidence: 0.9996)\n",
      "Review 30 is Negative (Confidence: 0.0012)\n",
      "Review 31 is Positive (Confidence: 0.9947)\n",
      "Review 32 is Positive (Confidence: 0.9978)\n",
      "Review 33 is Negative (Confidence: 0.0418)\n",
      "Review 34 is Negative (Confidence: 0.0001)\n",
      "Review 35 is Negative (Confidence: 0.0002)\n",
      "Review 36 is Negative (Confidence: 0.0008)\n",
      "Review 37 is Positive (Confidence: 0.8946)\n",
      "Review 38 is Positive (Confidence: 0.9973)\n",
      "Review 39 is Positive (Confidence: 0.8553)\n",
      "Review 40 is Negative (Confidence: 0.0002)\n",
      "Review 41 is Positive (Confidence: 0.9999)\n",
      "Review 42 is Positive (Confidence: 0.9993)\n",
      "Review 43 is Negative (Confidence: 0.0003)\n",
      "Review 44 is Positive (Confidence: 0.8887)\n",
      "Review 45 is Positive (Confidence: 0.9993)\n",
      "Review 46 is Positive (Confidence: 0.7372)\n",
      "Review 47 is Negative (Confidence: 0.0011)\n",
      "Review 48 is Negative (Confidence: 0.0000)\n",
      "Review 49 is Negative (Confidence: 0.0001)\n",
      "Review 50 is Positive (Confidence: 0.9976)\n",
      "Review 51 is Negative (Confidence: 0.0178)\n",
      "Review 52 is Negative (Confidence: 0.0055)\n",
      "Review 53 is Positive (Confidence: 0.9193)\n",
      "Review 54 is Positive (Confidence: 0.9712)\n",
      "Review 55 is Positive (Confidence: 0.9976)\n",
      "Review 56 is Positive (Confidence: 0.8664)\n",
      "Review 57 is Positive (Confidence: 0.9231)\n",
      "Review 58 is Positive (Confidence: 0.9845)\n",
      "Review 59 is Negative (Confidence: 0.0078)\n",
      "Review 60 is Negative (Confidence: 0.2019)\n",
      "Review 61 is Negative (Confidence: 0.0093)\n",
      "Review 62 is Negative (Confidence: 0.0005)\n",
      "Review 63 is Positive (Confidence: 0.9995)\n",
      "Review 64 is Negative (Confidence: 0.0003)\n",
      "Review 65 is Negative (Confidence: 0.0004)\n",
      "Review 66 is Positive (Confidence: 0.9954)\n",
      "Review 67 is Positive (Confidence: 0.9898)\n",
      "Review 68 is Positive (Confidence: 0.5398)\n",
      "Review 69 is Positive (Confidence: 0.9968)\n",
      "Review 70 is Positive (Confidence: 0.9945)\n",
      "Review 71 is Positive (Confidence: 0.9958)\n",
      "Review 72 is Positive (Confidence: 0.9970)\n",
      "Review 73 is Positive (Confidence: 0.9982)\n",
      "Review 74 is Negative (Confidence: 0.0015)\n",
      "Review 75 is Negative (Confidence: 0.0196)\n",
      "Review 76 is Positive (Confidence: 0.9934)\n",
      "Review 77 is Negative (Confidence: 0.0005)\n",
      "Review 78 is Negative (Confidence: 0.0491)\n",
      "Review 79 is Negative (Confidence: 0.0226)\n",
      "Review 80 is Negative (Confidence: 0.0000)\n",
      "Review 81 is Negative (Confidence: 0.0402)\n",
      "Review 82 is Negative (Confidence: 0.1184)\n",
      "Review 83 is Negative (Confidence: 0.0518)\n",
      "Review 84 is Negative (Confidence: 0.1378)\n",
      "Review 85 is Negative (Confidence: 0.0013)\n",
      "Review 86 is Negative (Confidence: 0.0012)\n",
      "Review 87 is Negative (Confidence: 0.0008)\n",
      "Review 88 is Positive (Confidence: 0.9327)\n",
      "Review 89 is Negative (Confidence: 0.0021)\n",
      "Review 90 is Positive (Confidence: 0.9979)\n",
      "Review 91 is Positive (Confidence: 0.9914)\n",
      "Review 92 is Positive (Confidence: 0.6201)\n",
      "Review 93 is Negative (Confidence: 0.0763)\n",
      "Review 94 is Positive (Confidence: 0.8146)\n",
      "Review 95 is Positive (Confidence: 0.9890)\n",
      "Review 96 is Positive (Confidence: 0.9517)\n",
      "Review 97 is Positive (Confidence: 0.5083)\n",
      "Review 98 is Positive (Confidence: 0.9991)\n",
      "Review 99 is Negative (Confidence: 0.0019)\n",
      "Review 100 is Negative (Confidence: 0.0003)\n"
     ]
    }
   ],
   "source": [
    "# Plot training & validation accuracy values\n",
    "plt.plot(history.history['accuracy'])\n",
    "plt.plot(history.history['val_accuracy'])\n",
    "plt.title('Model accuracy')\n",
    "\n",
    "plt.ylabel('Accuracy')\n",
    "plt.xlabel('Epoch')\n",
    "plt.legend(['Train', 'Validation'], loc='upper left')\n",
    "plt.show()\n",
    "\n",
    "# Plot training & validation loss values\n",
    "plt.plot(history.history['loss'])\n",
    "plt.plot(history.history['val_loss'])\n",
    "plt.title('Model loss')\n",
    "plt.ylabel('Loss')\n",
    "plt.xlabel('Epoch')\n",
    "plt.legend(['Train', 'Validation'], loc='upper left')\n",
    "plt.show()\n",
    "\n",
    "# Example: Predict sentiment on a few test samples\n",
    "sample_reviews = x_test[:100]\n",
    "predictions = model.predict(sample_reviews)\n",
    "\n",
    "for i, pred in enumerate(predictions):\n",
    "    sentiment = \"Positive\" if pred > 0.5 else \"Negative\"\n",
    "    print(f\"Review {i+1} is {sentiment} (Confidence: {pred[0]:.4f})\")"
   ]
  },
  {
   "cell_type": "code",
   "execution_count": null,
   "metadata": {},
   "outputs": [],
   "source": []
  }
 ],
 "metadata": {
  "kernelspec": {
   "display_name": "tf-pro",
   "language": "python",
   "name": "python3"
  },
  "language_info": {
   "codemirror_mode": {
    "name": "ipython",
    "version": 3
   },
   "file_extension": ".py",
   "mimetype": "text/x-python",
   "name": "python",
   "nbconvert_exporter": "python",
   "pygments_lexer": "ipython3",
   "version": "3.11.10"
  }
 },
 "nbformat": 4,
 "nbformat_minor": 2
}
